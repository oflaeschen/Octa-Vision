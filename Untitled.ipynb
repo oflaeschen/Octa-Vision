{
 "cells": [
  {
   "cell_type": "code",
   "execution_count": 29,
   "id": "1e6b3557-db94-4117-8f4c-234d40b0740c",
   "metadata": {},
   "outputs": [],
   "source": [
    "import cv2\n",
    "import pandas as pd\n",
    "import numpy as np\n",
    "from ultralytics import YOLO\n",
    "from tracker import*\n",
    "from datetime import datetime\n",
    "import pytz\n",
    "import cvzone"
   ]
  },
  {
   "cell_type": "code",
   "execution_count": 30,
   "id": "0cdce403-d536-416c-9130-5f93693d2540",
   "metadata": {},
   "outputs": [],
   "source": [
    "model=YOLO('yolov8s.pt')"
   ]
  },
  {
   "cell_type": "code",
   "execution_count": 31,
   "id": "9a5f8cba-9ee7-4224-aeac-de6e76f76adc",
   "metadata": {},
   "outputs": [
    {
     "data": {
      "text/plain": [
       "\"output_file = 'output.mp4'\\nexecution_file = 'execution.mp4'\\nfourcc = cv2.VideoWriter_fourcc(*'mp4v')\\nout = cv2.VideoWriter(output_file, fourcc, 30.0, (1020, 500))\\nexecution_out = cv2.VideoWriter(execution_file, fourcc, 30.0, (1020, 500))\""
      ]
     },
     "execution_count": 31,
     "metadata": {},
     "output_type": "execute_result"
    }
   ],
   "source": [
    "\"\"\"output_file = 'output.mp4'\n",
    "execution_file = 'execution.mp4'\n",
    "fourcc = cv2.VideoWriter_fourcc(*'mp4v')\n",
    "out = cv2.VideoWriter(output_file, fourcc, 30.0, (1020, 500))\n",
    "execution_out = cv2.VideoWriter(execution_file, fourcc, 30.0, (1020, 500))\"\"\""
   ]
  },
  {
   "cell_type": "code",
   "execution_count": 32,
   "id": "501ab89c-c8e7-4153-a2e8-fa52b1e743ab",
   "metadata": {},
   "outputs": [],
   "source": [
    "my_file = open(\"coco.txt\", \"r\")\n",
    "data = my_file.read()\n",
    "class_list = data.split(\"\\n\") \n",
    "#print(class_list)"
   ]
  },
  {
   "cell_type": "code",
   "execution_count": 33,
   "id": "6746d769-472b-46a6-a2ab-5618f51b260c",
   "metadata": {},
   "outputs": [
    {
     "name": "stdout",
     "output_type": "stream",
     "text": [
      "3.0\n"
     ]
    }
   ],
   "source": [
    "def RGB(event, x, y, flags, param):\n",
    "    if event == cv2.EVENT_MOUSEMOVE :  \n",
    "        colorsBGR = [x, y]\n",
    "        print(colorsBGR)\n",
    "\n",
    "cv2.namedWindow('RGB')\n",
    "cv2.setMouseCallback('RGB', RGB)\n",
    "\n",
    "\n",
    "\n",
    "cap=cv2.VideoCapture('video_output (6).mp4')\n",
    "\n",
    "# Verifique se o vídeo foi aberto corretamente\n",
    "if not cap.isOpened():\n",
    "    print(\"Erro ao abrir o vídeo.\")\n",
    "    exit()\n",
    "\n",
    "# Obtenha as informações de shape e FPS do vídeo\n",
    "frame_width = int(cap.get(cv2.CAP_PROP_FRAME_WIDTH))\n",
    "frame_height = int(cap.get(cv2.CAP_PROP_FRAME_HEIGHT))\n",
    "fps = cap.get(cv2.CAP_PROP_FPS)\n",
    "\n",
    "# Obtenha o fuso horário do Brasil\n",
    "timezone = pytz.timezone('America/Sao_Paulo')\n",
    "# Obtenha a data e hora atual no fuso horário do Brasil\n",
    "data_hora_atual = datetime.now(timezone)\n",
    "\n",
    "output_file = 'output.mp4'\n",
    "execution_file = 'execution.mp4'\n",
    "fourcc = cv2.VideoWriter_fourcc(*'mp4v')\n",
    "out = cv2.VideoWriter(output_file, fourcc, fps, (frame_width,frame_height))\n",
    "execution_out = cv2.VideoWriter(execution_file, fourcc, fps, (frame_width,frame_height))\n",
    "print(fps)"
   ]
  },
  {
   "cell_type": "code",
   "execution_count": 34,
   "id": "fb8dbd81-62c5-4166-8b62-1775bb4560b7",
   "metadata": {},
   "outputs": [
    {
     "name": "stderr",
     "output_type": "stream",
     "text": [
      "\n",
      "0: 320x640 1 car, 345.1ms\n",
      "Speed: 4.1ms preprocess, 345.1ms inference, 1.7ms postprocess per image at shape (1, 3, 320, 640)\n",
      "WARNING ⚠️ 'Boxes.boxes' is deprecated. Use 'Boxes.data' instead.\n"
     ]
    },
    {
     "name": "stdout",
     "output_type": "stream",
     "text": [
      "{0: 148}\n"
     ]
    },
    {
     "name": "stderr",
     "output_type": "stream",
     "text": [
      "\n",
      "0: 320x640 (no detections), 335.7ms\n",
      "Speed: 3.2ms preprocess, 335.7ms inference, 1.0ms postprocess per image at shape (1, 3, 320, 640)\n",
      "WARNING ⚠️ 'Boxes.boxes' is deprecated. Use 'Boxes.data' instead.\n",
      "\n",
      "0: 320x640 (no detections), 419.3ms\n",
      "Speed: 3.4ms preprocess, 419.3ms inference, 1.3ms postprocess per image at shape (1, 3, 320, 640)\n",
      "WARNING ⚠️ 'Boxes.boxes' is deprecated. Use 'Boxes.data' instead.\n",
      "\n",
      "0: 320x640 1 car, 344.5ms\n",
      "Speed: 4.5ms preprocess, 344.5ms inference, 1.5ms postprocess per image at shape (1, 3, 320, 640)\n",
      "WARNING ⚠️ 'Boxes.boxes' is deprecated. Use 'Boxes.data' instead.\n",
      "\n"
     ]
    },
    {
     "name": "stdout",
     "output_type": "stream",
     "text": [
      "{0: 148, 1: 165}\n"
     ]
    },
    {
     "name": "stderr",
     "output_type": "stream",
     "text": [
      "0: 320x640 1 car, 444.0ms\n",
      "Speed: 5.5ms preprocess, 444.0ms inference, 1.5ms postprocess per image at shape (1, 3, 320, 640)\n",
      "WARNING ⚠️ 'Boxes.boxes' is deprecated. Use 'Boxes.data' instead.\n"
     ]
    },
    {
     "name": "stdout",
     "output_type": "stream",
     "text": [
      "{0: 148, 1: 165, 2: 205}\n"
     ]
    },
    {
     "name": "stderr",
     "output_type": "stream",
     "text": [
      "\n",
      "0: 320x640 1 car, 332.9ms\n",
      "Speed: 3.2ms preprocess, 332.9ms inference, 1.5ms postprocess per image at shape (1, 3, 320, 640)\n",
      "WARNING ⚠️ 'Boxes.boxes' is deprecated. Use 'Boxes.data' instead.\n",
      "\n",
      "0: 320x640 (no detections), 348.1ms\n",
      "Speed: 3.2ms preprocess, 348.1ms inference, 0.9ms postprocess per image at shape (1, 3, 320, 640)\n",
      "WARNING ⚠️ 'Boxes.boxes' is deprecated. Use 'Boxes.data' instead.\n",
      "\n",
      "0: 320x640 (no detections), 343.2ms\n",
      "Speed: 3.1ms preprocess, 343.2ms inference, 1.0ms postprocess per image at shape (1, 3, 320, 640)\n",
      "WARNING ⚠️ 'Boxes.boxes' is deprecated. Use 'Boxes.data' instead.\n",
      "\n",
      "0: 320x640 (no detections), 369.0ms\n",
      "Speed: 4.1ms preprocess, 369.0ms inference, 0.9ms postprocess per image at shape (1, 3, 320, 640)\n",
      "WARNING ⚠️ 'Boxes.boxes' is deprecated. Use 'Boxes.data' instead.\n",
      "\n",
      "0: 320x640 (no detections), 346.7ms\n",
      "Speed: 4.2ms preprocess, 346.7ms inference, 1.0ms postprocess per image at shape (1, 3, 320, 640)\n",
      "WARNING ⚠️ 'Boxes.boxes' is deprecated. Use 'Boxes.data' instead.\n",
      "\n",
      "0: 320x640 2 cars, 367.4ms\n",
      "Speed: 4.0ms preprocess, 367.4ms inference, 1.5ms postprocess per image at shape (1, 3, 320, 640)\n",
      "WARNING ⚠️ 'Boxes.boxes' is deprecated. Use 'Boxes.data' instead.\n",
      "\n"
     ]
    },
    {
     "name": "stdout",
     "output_type": "stream",
     "text": [
      "{0: 148, 1: 165, 2: 205, 5: 100}\n"
     ]
    },
    {
     "name": "stderr",
     "output_type": "stream",
     "text": [
      "0: 320x640 1 car, 345.1ms\n",
      "Speed: 3.5ms preprocess, 345.1ms inference, 1.5ms postprocess per image at shape (1, 3, 320, 640)\n",
      "WARNING ⚠️ 'Boxes.boxes' is deprecated. Use 'Boxes.data' instead.\n",
      "\n"
     ]
    },
    {
     "name": "stdout",
     "output_type": "stream",
     "text": [
      "{0: 148, 1: 165, 2: 205, 5: 100, 6: 229}\n"
     ]
    },
    {
     "name": "stderr",
     "output_type": "stream",
     "text": [
      "0: 320x640 (no detections), 410.4ms\n",
      "Speed: 2.8ms preprocess, 410.4ms inference, 1.0ms postprocess per image at shape (1, 3, 320, 640)\n",
      "WARNING ⚠️ 'Boxes.boxes' is deprecated. Use 'Boxes.data' instead.\n",
      "\n",
      "0: 320x640 1 car, 334.3ms\n",
      "Speed: 3.5ms preprocess, 334.3ms inference, 1.6ms postprocess per image at shape (1, 3, 320, 640)\n",
      "WARNING ⚠️ 'Boxes.boxes' is deprecated. Use 'Boxes.data' instead.\n",
      "\n"
     ]
    },
    {
     "name": "stdout",
     "output_type": "stream",
     "text": [
      "{0: 148, 1: 165, 2: 205, 5: 100, 6: 229, 7: 98}\n"
     ]
    },
    {
     "name": "stderr",
     "output_type": "stream",
     "text": [
      "0: 320x640 (no detections), 381.9ms\n",
      "Speed: 2.9ms preprocess, 381.9ms inference, 0.9ms postprocess per image at shape (1, 3, 320, 640)\n",
      "WARNING ⚠️ 'Boxes.boxes' is deprecated. Use 'Boxes.data' instead.\n",
      "\n",
      "0: 320x640 1 car, 334.9ms\n",
      "Speed: 6.5ms preprocess, 334.9ms inference, 1.6ms postprocess per image at shape (1, 3, 320, 640)\n",
      "WARNING ⚠️ 'Boxes.boxes' is deprecated. Use 'Boxes.data' instead.\n",
      "\n"
     ]
    },
    {
     "name": "stdout",
     "output_type": "stream",
     "text": [
      "{0: 148, 1: 165, 2: 205, 5: 100, 6: 229, 7: 98, 8: 122}\n"
     ]
    },
    {
     "name": "stderr",
     "output_type": "stream",
     "text": [
      "0: 320x640 (no detections), 345.4ms\n",
      "Speed: 4.2ms preprocess, 345.4ms inference, 0.9ms postprocess per image at shape (1, 3, 320, 640)\n",
      "WARNING ⚠️ 'Boxes.boxes' is deprecated. Use 'Boxes.data' instead.\n",
      "\n",
      "0: 320x640 (no detections), 361.2ms\n",
      "Speed: 3.1ms preprocess, 361.2ms inference, 0.9ms postprocess per image at shape (1, 3, 320, 640)\n",
      "WARNING ⚠️ 'Boxes.boxes' is deprecated. Use 'Boxes.data' instead.\n",
      "\n",
      "0: 320x640 1 car, 369.8ms\n",
      "Speed: 3.8ms preprocess, 369.8ms inference, 1.5ms postprocess per image at shape (1, 3, 320, 640)\n",
      "WARNING ⚠️ 'Boxes.boxes' is deprecated. Use 'Boxes.data' instead.\n",
      "\n",
      "0: 320x640 3 cars, 343.4ms\n",
      "Speed: 3.9ms preprocess, 343.4ms inference, 1.5ms postprocess per image at shape (1, 3, 320, 640)\n",
      "WARNING ⚠️ 'Boxes.boxes' is deprecated. Use 'Boxes.data' instead.\n",
      "\n"
     ]
    },
    {
     "name": "stdout",
     "output_type": "stream",
     "text": [
      "{0: 148, 1: 165, 2: 205, 5: 100, 6: 229, 7: 98, 8: 122, 10: 182}\n",
      "{0: 148, 1: 165, 2: 205, 5: 100, 6: 229, 7: 98, 8: 122, 10: 182, 11: 158}\n",
      "{0: 148, 1: 165, 2: 205, 5: 100, 6: 229, 7: 98, 8: 122, 10: 182, 11: 158, 12: 147}\n"
     ]
    },
    {
     "name": "stderr",
     "output_type": "stream",
     "text": [
      "0: 320x640 1 car, 371.7ms\n",
      "Speed: 2.9ms preprocess, 371.7ms inference, 1.5ms postprocess per image at shape (1, 3, 320, 640)\n",
      "WARNING ⚠️ 'Boxes.boxes' is deprecated. Use 'Boxes.data' instead.\n",
      "\n"
     ]
    },
    {
     "name": "stdout",
     "output_type": "stream",
     "text": [
      "{0: 148, 1: 165, 2: 205, 5: 100, 6: 229, 7: 98, 8: 122, 10: 182, 11: 158, 12: 147, 13: 213}\n"
     ]
    },
    {
     "name": "stderr",
     "output_type": "stream",
     "text": [
      "0: 320x640 3 cars, 1 traffic light, 344.2ms\n",
      "Speed: 4.4ms preprocess, 344.2ms inference, 1.5ms postprocess per image at shape (1, 3, 320, 640)\n",
      "WARNING ⚠️ 'Boxes.boxes' is deprecated. Use 'Boxes.data' instead.\n",
      "\n"
     ]
    },
    {
     "name": "stdout",
     "output_type": "stream",
     "text": [
      "{0: 148, 1: 165, 2: 205, 5: 100, 6: 229, 7: 98, 8: 122, 10: 182, 11: 158, 12: 147, 13: 213, 14: 215}\n",
      "{0: 148, 1: 165, 2: 205, 5: 100, 6: 229, 7: 98, 8: 122, 10: 182, 11: 158, 12: 147, 13: 213, 14: 215, 15: 138}\n",
      "{0: 148, 1: 165, 2: 205, 5: 100, 6: 229, 7: 98, 8: 122, 10: 182, 11: 158, 12: 147, 13: 213, 14: 215, 15: 138, 16: 121}\n"
     ]
    },
    {
     "name": "stderr",
     "output_type": "stream",
     "text": [
      "0: 320x640 2 cars, 355.5ms\n",
      "Speed: 3.6ms preprocess, 355.5ms inference, 1.6ms postprocess per image at shape (1, 3, 320, 640)\n",
      "WARNING ⚠️ 'Boxes.boxes' is deprecated. Use 'Boxes.data' instead.\n",
      "\n"
     ]
    },
    {
     "name": "stdout",
     "output_type": "stream",
     "text": [
      "{0: 148, 1: 165, 2: 205, 5: 100, 6: 229, 7: 98, 8: 122, 10: 182, 11: 158, 12: 147, 13: 213, 14: 215, 15: 138, 16: 121, 17: 219}\n"
     ]
    },
    {
     "name": "stderr",
     "output_type": "stream",
     "text": [
      "0: 320x640 1 car, 396.2ms\n",
      "Speed: 4.3ms preprocess, 396.2ms inference, 1.5ms postprocess per image at shape (1, 3, 320, 640)\n",
      "WARNING ⚠️ 'Boxes.boxes' is deprecated. Use 'Boxes.data' instead.\n",
      "\n",
      "0: 320x640 (no detections), 368.8ms\n",
      "Speed: 2.9ms preprocess, 368.8ms inference, 0.9ms postprocess per image at shape (1, 3, 320, 640)\n",
      "WARNING ⚠️ 'Boxes.boxes' is deprecated. Use 'Boxes.data' instead.\n",
      "\n",
      "0: 320x640 (no detections), 360.0ms\n",
      "Speed: 4.2ms preprocess, 360.0ms inference, 1.0ms postprocess per image at shape (1, 3, 320, 640)\n",
      "WARNING ⚠️ 'Boxes.boxes' is deprecated. Use 'Boxes.data' instead.\n"
     ]
    }
   ],
   "source": [
    "count=0\n",
    "\n",
    "tracker=Tracker()\n",
    "\n",
    "cy1=150\n",
    "cy2=368\n",
    "offset=120\n",
    "\n",
    "vh_down = {}\n",
    "downcount=[]\n",
    "upcount=[]\n",
    "vh_up = {}\n",
    "\n",
    "while True:    \n",
    "    ret,frame = cap.read()\n",
    "    if not ret:\n",
    "        break\n",
    "    count += 1\n",
    "    if count % 3 != 0:\n",
    "        continue\n",
    "    frame=cv2.resize(frame,(1020,500))\n",
    "   \n",
    "\n",
    "    results=model.predict(frame)\n",
    "#    print(results)\n",
    "    a=results[0].boxes.boxes\n",
    "    px=pd.DataFrame(a).astype(\"float\")\n",
    "#    print(px)\n",
    "    list=[]\n",
    "             \n",
    "    for index,row in px.iterrows():\n",
    "#        print(row)\n",
    " \n",
    "        x1=int(row[0])\n",
    "        y1=int(row[1])\n",
    "        x2=int(row[2])\n",
    "        y2=int(row[3])\n",
    "        d=int(row[5])\n",
    "        c=class_list[d]\n",
    "        if 'car' in c:\n",
    "            list.append([x1,y1,x2,y2])\n",
    "    bbox_id=tracker.update(list)\n",
    "    for bbox in bbox_id:\n",
    "        x3,y3,x4,y4,id=bbox\n",
    "        cx=int(x3+x4)//2\n",
    "        cy=int(y3+y4)//2\n",
    "#        print(id)\n",
    "        #se ele toca a L1 e depois L2, ele está descendo\n",
    "        #L2 e L1, ele está subindo\n",
    "        #Condição para criar a contagem descendo\n",
    "        if cy1<(cy+offset) and cy1 > (cy-offset): #vendo se o centroide tocou a L1\n",
    "            #dicionario para verificar se o carro esta subindo ou descendo\n",
    "            cv2.circle(frame,(cx,cy),4,(0,0,255),-1)\n",
    "            vh_down[id]=cy #aqui ele recebe cy, pois estão no mesmo ponto\n",
    "            #print(cy)\n",
    "        #fazendo um dicionário para ler a info de cada id dentro da biblioteca\n",
    "        if id in vh_down:\n",
    "            print(vh_down)\n",
    "            if cy2<(cy+offset) and cy2 > (cy-offset): #contaremos somento os veiculos que tocam a segunda linha\n",
    "                #caso tenha tocado, você add o ponto vermelhor e a ID do objeto\n",
    "                \n",
    "                cv2.circle(frame,(cx,cy),4,(0,0,255),-1)\n",
    "                cv2.putText(frame,str(id),(cx,cy),cv2.FONT_HERSHEY_COMPLEX,0.8,(0,255,255),2)\n",
    "                if downcount.count(id)==0: #aqui estamos garantindo que ele só salva se não tiver a id na lista.\n",
    "                    downcount.append(id)\n",
    "\n",
    "        #Condição para criar a contagem subindo \n",
    "        if cy2<(cy+offset) and cy2 > (cy-offset): #vendo se o centroide tocou a L2\n",
    "            cv2.circle(frame,(cx,cy),4,(0,0,255),-1)\n",
    "            #dicionario para verificar se o carro esta subindo ou descendo\n",
    "            vh_up[id]=cy #aqui ele recebe cy, pois estão no mesmo ponto\n",
    "        #fazendo um dicionário para ler a info de cada id dentro da biblioteca\n",
    "        if id in vh_up:\n",
    "            if cy1<(cy+offset) and cy1 > (cy-offset): #contaremos somento os veiculos que tocam a segunda linha\n",
    "                #caso tenha tocado, você add o ponto vermelhor e a ID do objeto\n",
    "                cv2.circle(frame,(cx,cy),4,(0,0,255),-1)\n",
    "                cv2.putText(frame,str(id),(cx,cy),cv2.FONT_HERSHEY_COMPLEX,0.8,(0,255,255),2)\n",
    "                if upcount.count(id)==0: #aqui estamos garantindo que ele só salva se não tiver a id na lista.\n",
    "                    upcount.append(id)\n",
    "       \n",
    "    \n",
    "\n",
    "    cv2.line(frame,(116,cy1),(872,cy1),(255,255,255),1)\n",
    "    #aqui a linha Y precisar ser igual para que seja uma linha horizontal\n",
    "    cv2.putText(frame,('L1'),(217,196),cv2.FONT_HERSHEY_COMPLEX,0.8,(0,255,255),2)\n",
    "    cv2.line(frame,(89,cy2),(927,cy2),(255,255,255),1)\n",
    "    cv2.putText(frame,('L2'),(190,365),cv2.FONT_HERSHEY_COMPLEX,0.8,(0,255,255),2)\n",
    "    d=len(downcount) #fazendo a contagem de carros descendo\n",
    "    up = len(upcount)\n",
    "    cv2.putText(frame,str(data_hora_atual),(700,30),cv2.FONT_HERSHEY_COMPLEX,0.8,(0,255,255),2)\n",
    "    cv2.putText(frame,('Descendo: ')+str(d),(700,60),cv2.FONT_HERSHEY_COMPLEX,0.8,(0,255,255),2)\n",
    "    cv2.putText(frame,('Subindo: ')+str(up),(700,80),cv2.FONT_HERSHEY_COMPLEX,0.8,(0,255,255),2)\n",
    "\n",
    "    out.write(frame)\n",
    "    execution_out.write(frame)\n",
    "    \n",
    "    cv2.imshow(\"RGB\", frame)\n",
    "    if cv2.waitKey(0)&0xFF==27:\n",
    "        break\n",
    "\n",
    "\n",
    "cap.release()\n",
    "out.release()\n",
    "execution_out.release()\n",
    "cv2.destroyAllWindows()"
   ]
  },
  {
   "cell_type": "code",
   "execution_count": 35,
   "id": "5a9df881-f14d-4136-ab20-7c8fec64cbd2",
   "metadata": {},
   "outputs": [
    {
     "data": {
      "text/plain": [
       "'  ### CÓDIGO PARA A PISTA DA DIREITA DESCENDO E DA ESQUERDA SUBINDO\\n\\n\\n        if \\'car\\' in c:\\n            list.append([x1,y1,x2,y2])\\n    bbox_id=tracker.update(list)\\n    for bbox in bbox_id:\\n        x3,y3,x4,y4,id=bbox\\n        cx=int(x3+x4)//2\\n        cy=int(y3+y4)//2\\n#        print(id)\\n        #se ele toca a L1 e depois L2, ele está descendo\\n        #L2 e L1, ele está subindo\\n        #Condição para criar a contagem descendo\\n        if cy1<(cy+offset) and cy1 > (cy-offset): #vendo se o centroide tocou a L1\\n            #dicionario para verificar se o carro esta subindo ou descendo\\n            vh_down[id]=cy #aqui ele recebe cy, pois estão no mesmo ponto\\n        #fazendo um dicionário para ler a info de cada id dentro da biblioteca\\n        if id in vh_down:\\n            if cy2<(cy+offset) and cy2 > (cy-offset): #contaremos somento os veiculos que tocam a segunda linha\\n                #caso tenha tocado, você add o ponto vermelhor e a ID do objeto\\n                cv2.circle(frame,(cx,cy),4,(0,0,255),-1)\\n                cv2.putText(frame,str(id),(cx,cy),cv2.FONT_HERSHEY_COMPLEX,0.8,(0,255,255),2)\\n                if downcount.count(id)==0: #aqui estamos garantindo que ele só salva se não tiver a id na lista.\\n                    downcount.append(id)\\n\\n        #Condição para criar a contagem subindo \\n        if cy2<(cy+offset) and cy2 > (cy-offset): #vendo se o centroide tocou a L2\\n            #dicionario para verificar se o carro esta subindo ou descendo\\n            vh_up[id]=cy #aqui ele recebe cy, pois estão no mesmo ponto\\n        #fazendo um dicionário para ler a info de cada id dentro da biblioteca\\n        if id in vh_up:\\n            if cy1<(cy+offset) and cy1 > (cy-offset): #contaremos somento os veiculos que tocam a segunda linha\\n                #caso tenha tocado, você add o ponto vermelhor e a ID do objeto\\n                cv2.circle(frame,(cx,cy),4,(0,0,255),-1)\\n                cv2.putText(frame,str(id),(cx,cy),cv2.FONT_HERSHEY_COMPLEX,0.8,(0,255,255),2)\\n                if upcount.count(id)==0: #aqui estamos garantindo que ele só salva se não tiver a id na lista.\\n                    upcount.append(id)\\n       \\n    \\n\\n    cv2.line(frame,(116,cy1),(872,cy1),(255,255,255),1)\\n    #aqui a linha Y precisar ser igual para que seja uma linha horizontal\\n    cv2.putText(frame,(\\'L1\\'),(278,319),cv2.FONT_HERSHEY_COMPLEX,0.8,(0,255,255),2)\\n    cv2.line(frame,(89,cy2),(927,cy2),(255,255,255),1)\\n    cv2.putText(frame,(\\'L2\\'),(190,365),cv2.FONT_HERSHEY_COMPLEX,0.8,(0,255,255),2)\\n    d=len(downcount) #fazendo a contagem de carros descendo\\n    up = len(upcount)\\n    cv2.putText(frame,str(data_hora_atual),(700,30),cv2.FONT_HERSHEY_COMPLEX,0.8,(0,255,255),2)\\n    cv2.putText(frame,(\\'Descendo: \\')+str(d),(700,60),cv2.FONT_HERSHEY_COMPLEX,0.8,(0,255,255),2)\\n    cv2.putText(frame,(\\'Subindo: \\')+str(up),(700,80),cv2.FONT_HERSHEY_COMPLEX,0.8,(0,255,255),2)\\n\\n    out.write(frame)\\n    execution_out.write(frame)\\n    \\n    cv2.imshow(\"RGB\", frame)\\n    if cv2.waitKey(0)&0xFF==27:\\n        break\\n'"
      ]
     },
     "execution_count": 35,
     "metadata": {},
     "output_type": "execute_result"
    }
   ],
   "source": [
    "\"\"\"  ### CÓDIGO PARA A PISTA DA DIREITA DESCENDO E DA ESQUERDA SUBINDO\n",
    "\n",
    "\n",
    "        if 'car' in c:\n",
    "            list.append([x1,y1,x2,y2])\n",
    "    bbox_id=tracker.update(list)\n",
    "    for bbox in bbox_id:\n",
    "        x3,y3,x4,y4,id=bbox\n",
    "        cx=int(x3+x4)//2\n",
    "        cy=int(y3+y4)//2\n",
    "#        print(id)\n",
    "        #se ele toca a L1 e depois L2, ele está descendo\n",
    "        #L2 e L1, ele está subindo\n",
    "        #Condição para criar a contagem descendo\n",
    "        if cy1<(cy+offset) and cy1 > (cy-offset): #vendo se o centroide tocou a L1\n",
    "            #dicionario para verificar se o carro esta subindo ou descendo\n",
    "            vh_down[id]=cy #aqui ele recebe cy, pois estão no mesmo ponto\n",
    "        #fazendo um dicionário para ler a info de cada id dentro da biblioteca\n",
    "        if id in vh_down:\n",
    "            if cy2<(cy+offset) and cy2 > (cy-offset): #contaremos somento os veiculos que tocam a segunda linha\n",
    "                #caso tenha tocado, você add o ponto vermelhor e a ID do objeto\n",
    "                cv2.circle(frame,(cx,cy),4,(0,0,255),-1)\n",
    "                cv2.putText(frame,str(id),(cx,cy),cv2.FONT_HERSHEY_COMPLEX,0.8,(0,255,255),2)\n",
    "                if downcount.count(id)==0: #aqui estamos garantindo que ele só salva se não tiver a id na lista.\n",
    "                    downcount.append(id)\n",
    "\n",
    "        #Condição para criar a contagem subindo \n",
    "        if cy2<(cy+offset) and cy2 > (cy-offset): #vendo se o centroide tocou a L2\n",
    "            #dicionario para verificar se o carro esta subindo ou descendo\n",
    "            vh_up[id]=cy #aqui ele recebe cy, pois estão no mesmo ponto\n",
    "        #fazendo um dicionário para ler a info de cada id dentro da biblioteca\n",
    "        if id in vh_up:\n",
    "            if cy1<(cy+offset) and cy1 > (cy-offset): #contaremos somento os veiculos que tocam a segunda linha\n",
    "                #caso tenha tocado, você add o ponto vermelhor e a ID do objeto\n",
    "                cv2.circle(frame,(cx,cy),4,(0,0,255),-1)\n",
    "                cv2.putText(frame,str(id),(cx,cy),cv2.FONT_HERSHEY_COMPLEX,0.8,(0,255,255),2)\n",
    "                if upcount.count(id)==0: #aqui estamos garantindo que ele só salva se não tiver a id na lista.\n",
    "                    upcount.append(id)\n",
    "       \n",
    "    \n",
    "\n",
    "    cv2.line(frame,(116,cy1),(872,cy1),(255,255,255),1)\n",
    "    #aqui a linha Y precisar ser igual para que seja uma linha horizontal\n",
    "    cv2.putText(frame,('L1'),(278,319),cv2.FONT_HERSHEY_COMPLEX,0.8,(0,255,255),2)\n",
    "    cv2.line(frame,(89,cy2),(927,cy2),(255,255,255),1)\n",
    "    cv2.putText(frame,('L2'),(190,365),cv2.FONT_HERSHEY_COMPLEX,0.8,(0,255,255),2)\n",
    "    d=len(downcount) #fazendo a contagem de carros descendo\n",
    "    up = len(upcount)\n",
    "    cv2.putText(frame,str(data_hora_atual),(700,30),cv2.FONT_HERSHEY_COMPLEX,0.8,(0,255,255),2)\n",
    "    cv2.putText(frame,('Descendo: ')+str(d),(700,60),cv2.FONT_HERSHEY_COMPLEX,0.8,(0,255,255),2)\n",
    "    cv2.putText(frame,('Subindo: ')+str(up),(700,80),cv2.FONT_HERSHEY_COMPLEX,0.8,(0,255,255),2)\n",
    "\n",
    "    out.write(frame)\n",
    "    execution_out.write(frame)\n",
    "    \n",
    "    cv2.imshow(\"RGB\", frame)\n",
    "    if cv2.waitKey(0)&0xFF==27:\n",
    "        break\n",
    "\"\"\""
   ]
  },
  {
   "cell_type": "code",
   "execution_count": null,
   "id": "b9b73513-807c-49eb-9e7d-cef46243a42d",
   "metadata": {},
   "outputs": [],
   "source": []
  },
  {
   "cell_type": "code",
   "execution_count": null,
   "id": "5b34188a-8541-4255-ab9c-b48022a12fdf",
   "metadata": {},
   "outputs": [],
   "source": []
  }
 ],
 "metadata": {
  "kernelspec": {
   "display_name": "Python 3 (ipykernel)",
   "language": "python",
   "name": "python3"
  },
  "language_info": {
   "codemirror_mode": {
    "name": "ipython",
    "version": 3
   },
   "file_extension": ".py",
   "mimetype": "text/x-python",
   "name": "python",
   "nbconvert_exporter": "python",
   "pygments_lexer": "ipython3",
   "version": "3.8.16"
  }
 },
 "nbformat": 4,
 "nbformat_minor": 5
}
